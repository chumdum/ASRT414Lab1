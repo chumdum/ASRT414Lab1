{
  "nbformat": 4,
  "nbformat_minor": 0,
  "metadata": {
    "colab": {
      "name": "Astro414.ipynb",
      "provenance": [],
      "collapsed_sections": []
    },
    "kernelspec": {
      "name": "python3",
      "display_name": "Python 3"
    },
    "language_info": {
      "name": "python"
    }
  },
  "cells": [
    {
      "cell_type": "markdown",
      "source": [
        "##Import modules"
      ],
      "metadata": {
        "id": "jQ7CyEl0hhcV"
      }
    },
    {
      "cell_type": "code",
      "execution_count": 2,
      "metadata": {
        "id": "8aOve5OBcK2F"
      },
      "outputs": [],
      "source": [
        "import pandas as pd\n",
        "import numpy as np\n",
        "import matplotlib.pyplot as plt"
      ]
    },
    {
      "cell_type": "markdown",
      "source": [
        "##Import data sets from Github"
      ],
      "metadata": {
        "id": "jmWL9C_OhlYa"
      }
    },
    {
      "cell_type": "code",
      "source": [
        "ztarget=pd.read_csv('https://raw.githubusercontent.com/chumdum/ASRT414Lab1/main/ztarget_msolson2.csv')\n",
        "ztrain=pd.read_csv('https://raw.githubusercontent.com/chumdum/ASRT414Lab1/main/ztrain_msolson2.csv')"
      ],
      "metadata": {
        "id": "isJNC-Q7cSt0"
      },
      "execution_count": 3,
      "outputs": []
    },
    {
      "cell_type": "markdown",
      "source": [
        "##Get data"
      ],
      "metadata": {
        "id": "GrFveT23h4j5"
      }
    },
    {
      "cell_type": "code",
      "source": [
        "#select each relevant column from the train datasets\n",
        "zs=ztrain['z']\n",
        "u=ztrain['modelMag_u']\n",
        "g=ztrain['modelMag_g']\n",
        "r=ztrain['modelMag_r']\n",
        "i=ztrain['modelMag_i']\n",
        "z=ztrain['modelMag_z']\n",
        "\n",
        "#calculate average values\n",
        "ubar=u.mean()\n",
        "gbar=g.mean()\n",
        "rbar=r.mean()\n",
        "ibar=i.mean()\n",
        "zbar=z.mean()\n",
        "zsbar=zs.mean()\n",
        "\n",
        "#calculate each covariance\n",
        "cov11=ztrain.modelMag_u.cov(ztrain.modelMag_u)\n",
        "cov22=ztrain.modelMag_g.cov(ztrain.modelMag_g)\n",
        "cov33=ztrain.modelMag_r.cov(ztrain.modelMag_r)\n",
        "cov44=ztrain.modelMag_i.cov(ztrain.modelMag_i)\n",
        "cov55=ztrain.modelMag_z.cov(ztrain.modelMag_z)\n",
        "cov12=ztrain.modelMag_u.cov(ztrain.modelMag_g)\n",
        "cov13=ztrain.modelMag_u.cov(ztrain.modelMag_r)\n",
        "cov14=ztrain.modelMag_u.cov(ztrain.modelMag_i)\n",
        "cov15=ztrain.modelMag_u.cov(ztrain.modelMag_z)\n",
        "cov23=ztrain.modelMag_g.cov(ztrain.modelMag_r)\n",
        "cov24=ztrain.modelMag_g.cov(ztrain.modelMag_i)\n",
        "cov25=ztrain.modelMag_g.cov(ztrain.modelMag_z)\n",
        "cov34=ztrain.modelMag_r.cov(ztrain.modelMag_i)\n",
        "cov35=ztrain.modelMag_r.cov(ztrain.modelMag_z)\n",
        "cov45=ztrain.modelMag_i.cov(ztrain.modelMag_z)\n",
        "covz1=ztrain.z.cov(ztrain.modelMag_u)\n",
        "covz2=ztrain.z.cov(ztrain.modelMag_g)\n",
        "covz3=ztrain.z.cov(ztrain.modelMag_r)\n",
        "covz4=ztrain.z.cov(ztrain.modelMag_i)\n",
        "covz5=ztrain.z.cov(ztrain.modelMag_z)"
      ],
      "metadata": {
        "id": "rWYmbMzLmdEU"
      },
      "execution_count": 4,
      "outputs": []
    },
    {
      "cell_type": "markdown",
      "source": [
        "##Solve matrix equation for $b_1$, $b_2$, $b_3$, $b_4$ and $b_5$"
      ],
      "metadata": {
        "id": "aiC2s5Nyh61C"
      }
    },
    {
      "cell_type": "code",
      "source": [
        "A=np.array([\n",
        "            [cov11,cov12,cov13,cov14,cov15],\n",
        "            [cov12,cov22,cov23,cov24,cov25],\n",
        "            [cov13,cov23,cov33,cov34,cov35],\n",
        "            [cov14,cov24,cov34,cov44,cov45],\n",
        "            [cov15,cov25,cov35,cov45,cov55]\n",
        "])\n",
        "C=np.array([covz1,covz2,covz3,covz4,covz5]).T\n",
        "b=np.linalg.solve(A,C)\n",
        "\n",
        "print('b=',b)"
      ],
      "metadata": {
        "colab": {
          "base_uri": "https://localhost:8080/"
        },
        "id": "J7iXiF0fosiZ",
        "outputId": "a9fa301b-2a42-4baf-f39e-983409bfff87"
      },
      "execution_count": 5,
      "outputs": [
        {
          "output_type": "stream",
          "name": "stdout",
          "text": [
            "b= [ 0.01455839  0.08880067 -0.00486052 -0.0258905  -0.02536246]\n"
          ]
        }
      ]
    },
    {
      "cell_type": "markdown",
      "source": [
        "##Calculate $b_0$"
      ],
      "metadata": {
        "id": "xBPSdfsxiVPo"
      }
    },
    {
      "cell_type": "code",
      "source": [
        "b0=zsbar-(b[0]*ubar+b[1]*gbar+b[2]*rbar+b[3]*ibar+b[4]*zbar)\n",
        "\n",
        "print('b0=',b0)"
      ],
      "metadata": {
        "id": "A9tvTJBLotNN",
        "colab": {
          "base_uri": "https://localhost:8080/"
        },
        "outputId": "b5f90dfe-7aad-4242-cb7b-a0f51af38dbe"
      },
      "execution_count": 7,
      "outputs": [
        {
          "output_type": "stream",
          "name": "stdout",
          "text": [
            "b0= -0.8294912322890319\n"
          ]
        }
      ]
    },
    {
      "cell_type": "markdown",
      "source": [
        "##Calculate bias in train set"
      ],
      "metadata": {
        "id": "JTtfac7ticyw"
      }
    },
    {
      "cell_type": "code",
      "source": [
        "n=len(u)\n",
        "zis=[]\n",
        "zip=[]\n",
        "errs=[]\n",
        "for j in range(n):\n",
        "  zi=zs[j]\n",
        "  zis.append(zi)\n",
        "  zp=b0+b1*u[j]+b2*g[j]+b3*r[j]+b4*i[j]+b5*z[j]\n",
        "  zip.append(zp)\n",
        "  err=zi-zp\n",
        "  errs.append(err)\n",
        "sum(errs)/len(errs)\n",
        "#bias in traininig, very small, bc we trained it on this set"
      ],
      "metadata": {
        "id": "_B-fYbbCtGH9",
        "colab": {
          "base_uri": "https://localhost:8080/"
        },
        "outputId": "d6659c01-802b-46c1-af57-cea3afe6f462"
      },
      "execution_count": 9,
      "outputs": [
        {
          "output_type": "execute_result",
          "data": {
            "text/plain": [
              "-7.595576010594662e-16"
            ]
          },
          "metadata": {},
          "execution_count": 9
        }
      ]
    },
    {
      "cell_type": "markdown",
      "source": [
        "##Get target data"
      ],
      "metadata": {
        "id": "JYJF5gPaijjE"
      }
    },
    {
      "cell_type": "code",
      "source": [
        "#select each relevant column from the target datasets\n",
        "zst=ztarget['z']\n",
        "ut=ztarget['modelMag_u']\n",
        "gt=ztarget['modelMag_g']\n",
        "rt=ztarget['modelMag_r']\n",
        "it=ztarget['modelMag_i']\n",
        "zt=ztarget['modelMag_z']\n",
        "\n",
        "#calculate average values\n",
        "ubart=ut.mean()\n",
        "gbart=gt.mean()\n",
        "rbart=rt.mean()\n",
        "ibart=it.mean()\n",
        "zbart=zt.mean()\n",
        "zsbart=zst.mean()\n",
        "\n",
        "#calculate estimated redshifts using the coefficients from the train data set\n",
        "zist=[]\n",
        "zipt=[]\n",
        "errst=[]\n",
        "nt=len(ut)\n",
        "for j in range(nt):\n",
        "  zit=zst[j]\n",
        "  zist.append(zit)\n",
        "  zpt=b0+b1*ut[j]+b2*gt[j]+b3*rt[j]+b4*it[j]+b5*zt[j]\n",
        "  zipt.append(zpt)\n",
        "  errt=zit-zpt\n",
        "  errst.append(errt)\n",
        "\n",
        "#calculate average error\n",
        "ebart=sum(errst)/len(errst)\n",
        "\n",
        "#calculate RMS error\n",
        "MSE = np.square(np.array(zist) - np.array(zipt)).mean()\n",
        "RMSE=np.sqrt(MSE)\n",
        "print('RMS Error=',RMSE)"
      ],
      "metadata": {
        "id": "1-P-S3V_vy7P",
        "colab": {
          "base_uri": "https://localhost:8080/"
        },
        "outputId": "58d81d70-f337-4bff-91b8-f74789849619"
      },
      "execution_count": 10,
      "outputs": [
        {
          "output_type": "stream",
          "name": "stdout",
          "text": [
            "RMS Error= 0.049492379725104785\n"
          ]
        }
      ]
    },
    {
      "cell_type": "markdown",
      "source": [
        "##Plot estimated vs true redshift"
      ],
      "metadata": {
        "id": "zdTH7CgbjAZe"
      }
    },
    {
      "cell_type": "code",
      "source": [
        "plt.scatter(zist,zipt)\n",
        "plt.xlabel('$z_{is}$')\n",
        "plt.ylabel('$z_{ip}$')\n",
        "plt.savefig('redshiftplot.png')"
      ],
      "metadata": {
        "id": "7RBN0yoCKEty",
        "colab": {
          "base_uri": "https://localhost:8080/",
          "height": 281
        },
        "outputId": "ae276cbc-b070-4a15-d5dd-ce641c852eb0"
      },
      "execution_count": 11,
      "outputs": [
        {
          "output_type": "display_data",
          "data": {
            "text/plain": [
              "<Figure size 432x288 with 1 Axes>"
            ],
            "image/png": "[encoded data removed]"
          },
          "metadata": {
            "needs_background": "light"
          }
        }
      ]
    },
    {
      "cell_type": "markdown",
      "source": [
        "##Plot error vs true redshift"
      ],
      "metadata": {
        "id": "Sa17sbI8jRxg"
      }
    },
    {
      "cell_type": "code",
      "source": [
        "plt.scatter(zist,errst)\n",
        "plt.xlabel('$z_{is}$')\n",
        "plt.ylabel(r'$\\varepsilon $')\n",
        "plt.savefig('redshifterror.png')"
      ],
      "metadata": {
        "id": "vN6luE-mKFMu",
        "colab": {
          "base_uri": "https://localhost:8080/",
          "height": 281
        },
        "outputId": "67ce29a1-77c9-42c9-88fc-f6b4e87f8fc6"
      },
      "execution_count": 12,
      "outputs": [
        {
          "output_type": "display_data",
          "data": {
            "text/plain": [
              "<Figure size 432x288 with 1 Axes>"
            ],
            "image/png": "[encoded data removed]"
          },
          "metadata": {
            "needs_background": "light"
          }
        }
      ]
    },
    {
      "cell_type": "markdown",
      "source": [
        "##Histogram of error"
      ],
      "metadata": {
        "id": "BKdgnZhkjZYK"
      }
    },
    {
      "cell_type": "code",
      "source": [
        "plt.hist(errst, bins = 'auto')\n",
        "plt.xlabel(r'$\\varepsilon$')\n",
        "plt.savefig('errorhisto.png')"
      ],
      "metadata": {
        "id": "5f5ThIu0MDRd",
        "colab": {
          "base_uri": "https://localhost:8080/",
          "height": 279
        },
        "outputId": "b3115816-10b6-4486-c011-6d65a1090c22"
      },
      "execution_count": 13,
      "outputs": [
        {
          "output_type": "display_data",
          "data": {
            "text/plain": [
              "<Figure size 432x288 with 1 Axes>"
            ],
            "image/png": "[encoded data removed]"
          },
          "metadata": {
            "needs_background": "light"
          }
        }
      ]
    },
    {
      "cell_type": "code",
      "source": [
        "ebart\n",
        "#bias in redshift"
      ],
      "metadata": {
        "id": "oPQiA_x5MOTY",
        "colab": {
          "base_uri": "https://localhost:8080/"
        },
        "outputId": "67ad00a5-d7d1-4db4-9dff-c892c9a0c70d"
      },
      "execution_count": null,
      "outputs": [
        {
          "output_type": "execute_result",
          "data": {
            "text/plain": [
              "-0.0026159257671277045"
            ]
          },
          "metadata": {},
          "execution_count": 13
        }
      ]
    },
    {
      "cell_type": "code",
      "source": [
        "RMSE\n",
        "#other rms error for target"
      ],
      "metadata": {
        "id": "xDkR5B7gUxAP",
        "colab": {
          "base_uri": "https://localhost:8080/"
        },
        "outputId": "0f73a74c-1cb6-41c0-f3b9-54132916b5e2"
      },
      "execution_count": null,
      "outputs": [
        {
          "output_type": "execute_result",
          "data": {
            "text/plain": [
              "0.049492379725104785"
            ]
          },
          "metadata": {},
          "execution_count": 14
        }
      ]
    },
    {
      "cell_type": "markdown",
      "source": [
        "##Identify Outliers"
      ],
      "metadata": {
        "id": "Fm9dcX8BMSP-"
      }
    },
    {
      "cell_type": "code",
      "source": [
        "errsmag=[abs(x) for x in errst]\n",
        "ztarget['err']=errsmag"
      ],
      "metadata": {
        "id": "rwnHBkYTUxlJ"
      },
      "execution_count": 14,
      "outputs": []
    },
    {
      "cell_type": "markdown",
      "source": [
        "#5 worst fit points from our model"
      ],
      "metadata": {
        "id": "t1YHELQCji3a"
      }
    },
    {
      "cell_type": "code",
      "source": [
        "ztarget['err'].nlargest(5)"
      ],
      "metadata": {
        "id": "j3-y4eYM9_ZM",
        "colab": {
          "base_uri": "https://localhost:8080/"
        },
        "outputId": "3d0d781e-1f87-42b8-d6c2-b65a1567e839"
      },
      "execution_count": 15,
      "outputs": [
        {
          "output_type": "execute_result",
          "data": {
            "text/plain": [
              "728    0.410690\n",
              "580    0.330119\n",
              "448    0.310994\n",
              "332    0.262768\n",
              "531    0.253750\n",
              "Name: err, dtype: float64"
            ]
          },
          "metadata": {},
          "execution_count": 15
        }
      ]
    },
    {
      "cell_type": "markdown",
      "source": [
        "#5 best fit points from our model"
      ],
      "metadata": {
        "id": "Z6oehx5xjroH"
      }
    },
    {
      "cell_type": "code",
      "source": [
        "ztarget['err'].nsmallest(5)"
      ],
      "metadata": {
        "colab": {
          "base_uri": "https://localhost:8080/"
        },
        "id": "rsXQn4_wXltT",
        "outputId": "b88cfc0a-c6f9-4084-bf5a-6f55a25f35fc"
      },
      "execution_count": 16,
      "outputs": [
        {
          "output_type": "execute_result",
          "data": {
            "text/plain": [
              "64     0.000031\n",
              "76     0.000070\n",
              "58     0.000276\n",
              "224    0.000284\n",
              "254    0.000287\n",
              "Name: err, dtype: float64"
            ]
          },
          "metadata": {},
          "execution_count": 16
        }
      ]
    },
    {
      "cell_type": "markdown",
      "source": [
        "#Calculate errors provided in data set"
      ],
      "metadata": {
        "id": "ydbGzf8zj4BA"
      }
    },
    {
      "cell_type": "code",
      "source": [
        "uerr=ztarget['modelMagErr_u']\n",
        "gerr=ztarget['modelMagErr_g']\n",
        "rerr=ztarget['modelMagErr_r']\n",
        "ierr=ztarget['modelMagErr_i']\n",
        "zerr=ztarget['modelMagErr_z']\n",
        "n=len(uerr)\n",
        "givenerrs=[]\n",
        "for j in range(n):\n",
        "  given=np.array([uerr[j],gerr[j],rerr[j],ierr[j],zerr[j]])\n",
        "  e=np.linalg.norm(given)\n",
        "  givenerrs.append(e)\n"
      ],
      "metadata": {
        "id": "_JkyP0LURXzq"
      },
      "execution_count": 18,
      "outputs": []
    },
    {
      "cell_type": "markdown",
      "source": [
        "#Plot estimated vs given errors"
      ],
      "metadata": {
        "id": "dn-yzGzTkBti"
      }
    },
    {
      "cell_type": "code",
      "source": [
        "plt.scatter(givenerrs,errsmag)\n",
        "plt.xlabel('Norm of Photometric Error')\n",
        "plt.xlim([0,1])\n",
        "plt.ylabel('Norm of $\\epsilon$')\n",
        "#plt.title('Calculated vs Given Error')\n",
        "plt.savefig('errorplot.png')"
      ],
      "metadata": {
        "colab": {
          "base_uri": "https://localhost:8080/",
          "height": 279
        },
        "id": "4WIpdGekTDOu",
        "outputId": "a3503cce-0dab-43ad-8901-c2da3a78b592"
      },
      "execution_count": 19,
      "outputs": [
        {
          "output_type": "display_data",
          "data": {
            "text/plain": [
              "<Figure size 432x288 with 1 Axes>"
            ],
            "image/png": "[encoded data removed]"
          },
          "metadata": {
            "needs_background": "light"
          }
        }
      ]
    }
  ]
}